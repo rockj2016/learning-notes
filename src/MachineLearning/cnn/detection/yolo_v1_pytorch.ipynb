{
 "cells": [
  {
   "cell_type": "code",
   "execution_count": 0,
   "metadata": {
    "colab": {},
    "colab_type": "code",
    "id": "UsWzbOGUVbch"
   },
   "outputs": [],
   "source": [
    "from torchvision import transforms\n",
    "from torch.utils.data import DataLoader\n",
    "import torch.nn.functional as F\n",
    "import pprint\n",
    "import torch\n",
    "import torchvision\n",
    "import numpy as np\n",
    "import torch.nn as nn\n",
    "import time,os\n",
    "import matplotlib.pyplot as plt\n",
    "\n",
    "from google.colab import auth, drive,files\n",
    "from googleapiclient.http import MediaFileUpload\n",
    "from googleapiclient.discovery import build\n",
    "\n",
    "device = torch.device(\"cuda:0\" if torch.cuda.is_available() else \"cpu\")\n"
   ]
  },
  {
   "cell_type": "code",
   "execution_count": 0,
   "metadata": {
    "colab": {
     "base_uri": "https://localhost:8080/",
     "height": 52
    },
    "colab_type": "code",
    "executionInfo": {
     "elapsed": 43821,
     "status": "ok",
     "timestamp": 1557709928585,
     "user": {
      "displayName": "yuan jiang",
      "photoUrl": "",
      "userId": "10570647316331037244"
     },
     "user_tz": -480
    },
    "id": "4xfbscr0NhAt",
    "outputId": "86d05642-0ce5-4368-f291-9b23f216ebe6"
   },
   "outputs": [
    {
     "name": "stderr",
     "output_type": "stream",
     "text": [
      "\r",
      "0it [00:00, ?it/s]"
     ]
    },
    {
     "name": "stdout",
     "output_type": "stream",
     "text": [
      "Downloading http://host.robots.ox.ac.uk/pascal/VOC/voc2007/VOCtrainval_06-Nov-2007.tar to ./data/VOCtrainval_06-Nov-2007.tar\n"
     ]
    },
    {
     "name": "stderr",
     "output_type": "stream",
     "text": [
      "100%|█████████▉| 459284480/460032000 [00:33<00:00, 13732842.89it/s]"
     ]
    },
    {
     "name": "stdout",
     "output_type": "stream",
     "text": [
      "Using downloaded and verified file: ./data/VOCtrainval_06-Nov-2007.tar\n"
     ]
    }
   ],
   "source": [
    "grid_number = 7\n",
    "grid_size = 1/7\n",
    "box_number = 2\n",
    "img_size = 448\n",
    "\n",
    "transform = transforms.Compose([\n",
    "    transforms.Resize((img_size, img_size)),\n",
    "    transforms.ToTensor(),\n",
    "])\n",
    "\n",
    "object_class = ['tvmonitor', 'aeroplane', 'sofa', 'motorbike', 'bird', 'sheep', 'train', 'bicycle', 'diningtable', 'cat', 'boat', 'cow', 'chair', 'bottle', 'bus', 'dog', 'horse', 'car', 'pottedplant', 'person']\n",
    "\n",
    "def target_transform(targets):\n",
    "    \"\"\"\n",
    "    把标记数据转换成 yolo 格式 x,y(以网格长宽为1)w,h(以图片长宽为1)\n",
    "    \"\"\"\n",
    "#     print( targets.get('annotation').get('filename'))\n",
    "    size =  targets.get('annotation').get('size')\n",
    "    # xy缩放比例\n",
    "    scale_x = img_size / int(size.get('width'))\n",
    "    scale_y = img_size / int(size.get('height'))\n",
    "#     print('w_h',int(size.get('width')),int(size.get('height')))\n",
    "    boxs = []\n",
    "    labels = []\n",
    "    objects= targets.get('annotation').get('object')\n",
    "    if type(objects) == dict:\n",
    "#         print(objects.get('name'),object_class.index(objects.get('name')))\n",
    "        labels.append(object_class.index(objects.get('name')))\n",
    "        bound_box = objects.get('bndbox')\n",
    "        # x,y,w,h,confidence, x,y,w,h 属于 (0,1)相对于整个图片\n",
    "        box = torch.tensor([\n",
    "            (int(bound_box.get('xmin')) + int(bound_box.get('xmax')))/ 2 / int(size.get('width')),\n",
    "            (int(bound_box.get('ymin')) + int(bound_box.get('ymax')))/ 2 / int(size.get('height')),\n",
    "            (int(bound_box.get('xmax')) - int(bound_box.get('xmin'))) / int(size.get('width')),\n",
    "            (int(bound_box.get('ymax')) - int(bound_box.get('ymin'))) / int(size.get('height')),\n",
    "            1,\n",
    "        ])\n",
    "#         print('raw',int(bound_box.get('xmin'))*scale_x,int(bound_box.get('ymin'))*scale_y,box)\n",
    "        boxs.append(box)\n",
    "    else:\n",
    "        for x in objects:\n",
    "            labels.append(object_class.index(x.get('name')))\n",
    "#             print(x.get('name'),object_class.index(x.get('name')))\n",
    "            bound_box = x.get('bndbox')\n",
    "            # x,y,w,h,confidence, x,y,w,h 属于 (0,1)相对于整个图片\n",
    "            box = torch.tensor([\n",
    "                (int(bound_box.get('xmin')) + int(bound_box.get('xmax')))/ 2  / int(size.get('width')),\n",
    "                (int(bound_box.get('ymin')) + int(bound_box.get('ymax')))/ 2  / int(size.get('height')),\n",
    "                (int(bound_box.get('xmax')) - int(bound_box.get('xmin'))) / int(size.get('width')),\n",
    "                (int(bound_box.get('ymax')) - int(bound_box.get('ymin'))) / int(size.get('height')),\n",
    "                1,\n",
    "            ])\n",
    "#             print('raw',int(bound_box.get('xmin'))*scale_x,int(bound_box.get('ymin'))*scale_y,box)\n",
    "\n",
    "\n",
    "            boxs.append(box)\n",
    "    \n",
    "    res = torch.zeros((grid_number, grid_number, box_number * 5 + len(object_class)))\n",
    "#     print(labels)\n",
    "    # object 分配到网格,x,y 按网格高宽为1 进行缩放\n",
    "    for box,label in zip(boxs,labels):\n",
    "        # 根据 cx,cy 判断所属网格\n",
    "        i,j= (box[:2]/grid_size).floor()\n",
    "        i,j = int(i), int(j)\n",
    "        \n",
    "        # 把 x,y,w,h 归属到相应网格\n",
    "        box[0] = box[0] * grid_number - i\n",
    "        box[1] = box[1] * grid_number - j\n",
    "        box[2] = box[2]\n",
    "        box[3] = box[3]\n",
    "        \n",
    "        bd_boxs = box.repeat(1,box_number)\n",
    "\n",
    "        index = box_number * 5\n",
    "        res[i][j][:index] =  bd_boxs\n",
    "        res[i][j][index + label] = 1\n",
    "        \n",
    "        # ---\n",
    "        boxs = res[:,:,:10].reshape(-1,5)\n",
    "#     print('encode_data',boxs[boxs[:,4] == 1])\n",
    "    \n",
    "    return res\n",
    "\n",
    "trainset = torchvision.datasets.VOCDetection(root='./data' ,year='2007',\n",
    "                                             image_set='train'\n",
    "                                             ,download=True,\n",
    "                                             transform=transform,\n",
    "                                             target_transform = target_transform\n",
    "                                            )\n",
    "\n",
    "testset = torchvision.datasets.VOCDetection(root='./data' ,year='2007',\n",
    "                                             image_set='val'\n",
    "                                             ,download=True,\n",
    "                                             transform=transform,\n",
    "                                             target_transform = target_transform\n",
    "                                            )\n"
   ]
  },
  {
   "cell_type": "code",
   "execution_count": 0,
   "metadata": {
    "colab": {},
    "colab_type": "code",
    "id": "eKkdsWli2VmN"
   },
   "outputs": [],
   "source": [
    "class YoloV1(nn.Module):\n",
    "    def __init__(self):\n",
    "        super(YoloV1, self).__init__()\n",
    "        C = 20  # number of classes\n",
    "        print(\"\\n------Initiating YOLO v1------\\n\")\n",
    "        self.conv_layer1 = nn.Sequential(\n",
    "            nn.Conv2d(in_channels=3, out_channels=64, kernel_size=7, stride=2, padding=7//2),\n",
    "            nn.BatchNorm2d(64),\n",
    "            nn.LeakyReLU(0.1),\n",
    "            nn.MaxPool2d(kernel_size=2, stride=2)\n",
    "        )\n",
    "        self.conv_layer2 = nn.Sequential(\n",
    "            nn.Conv2d(in_channels=64, out_channels=192, kernel_size=3, stride=1, padding=3//2),\n",
    "            nn.BatchNorm2d(192),\n",
    "            nn.LeakyReLU(0.1),\n",
    "            nn.MaxPool2d(kernel_size=2, stride=2)\n",
    "        )\n",
    "        self.conv_layer3 = nn.Sequential(\n",
    "            nn.Conv2d(in_channels=192, out_channels=128, kernel_size=1, stride=1, padding=1//2),\n",
    "            nn.Conv2d(in_channels=128, out_channels=256, kernel_size=3, stride=1, padding=3//2),\n",
    "            nn.Conv2d(in_channels=256, out_channels=256, kernel_size=1, stride=1, padding=1//2),\n",
    "            nn.Conv2d(in_channels=256, out_channels=512, kernel_size=3, stride=1, padding=3//2),\n",
    "            nn.BatchNorm2d(512),\n",
    "            nn.LeakyReLU(0.1),\n",
    "            nn.MaxPool2d(kernel_size=2, stride=2)\n",
    "        )\n",
    "        self.conv_layer4 = nn.Sequential(\n",
    "            nn.Conv2d(in_channels=512, out_channels=256, kernel_size=1, stride=1, padding=1//2),\n",
    "            nn.Conv2d(in_channels=256, out_channels=512, kernel_size=3, stride=1, padding=3//2),\n",
    "            nn.Conv2d(in_channels=512, out_channels=256, kernel_size=1, stride=1, padding=1//2),\n",
    "            nn.Conv2d(in_channels=256, out_channels=512, kernel_size=3, stride=1, padding=3//2),\n",
    "            nn.Conv2d(in_channels=512, out_channels=256, kernel_size=1, stride=1, padding=1//2),\n",
    "            nn.Conv2d(in_channels=256, out_channels=512, kernel_size=3, stride=1, padding=3//2),\n",
    "            nn.Conv2d(in_channels=512, out_channels=512, kernel_size=1, stride=1, padding=1//2),\n",
    "            nn.Conv2d(in_channels=512, out_channels=1024, kernel_size=3, stride=1, padding=3//2),\n",
    "            nn.BatchNorm2d(1024),\n",
    "            nn.MaxPool2d(kernel_size=2, stride=2)\n",
    "        )\n",
    "        self.conv_layer5 = nn.Sequential(\n",
    "            nn.Conv2d(in_channels=1024, out_channels=512, kernel_size=1, stride=1, padding=1//2),\n",
    "            nn.Conv2d(in_channels=512, out_channels=1024, kernel_size=3, stride=1, padding=3//2),\n",
    "            nn.Conv2d(in_channels=1024, out_channels=512, kernel_size=1, stride=1, padding=1//2),\n",
    "            nn.Conv2d(in_channels=512, out_channels=1024, kernel_size=3, stride=1, padding=3//2),\n",
    "            nn.Conv2d(in_channels=1024, out_channels=1024, kernel_size=3, stride=1, padding=3//2),\n",
    "            nn.Conv2d(in_channels=1024, out_channels=1024, kernel_size=3, stride=2, padding=3//2),\n",
    "            nn.BatchNorm2d(1024),\n",
    "            nn.LeakyReLU(0.1),\n",
    "        )\n",
    "        self.conv_layer6 = nn.Sequential(\n",
    "            nn.Conv2d(in_channels=1024, out_channels=1024, kernel_size=3, stride=1, padding=3//2),\n",
    "            nn.Conv2d(in_channels=1024, out_channels=1024, kernel_size=3, stride=1, padding=3//2),\n",
    "            nn.BatchNorm2d(1024),\n",
    "            nn.LeakyReLU(0.1)\n",
    "        )\n",
    "\n",
    "        self.conn_layer1 = nn.Sequential(\n",
    "            nn.Linear(in_features=7*7*1024, out_features=4096),\n",
    "            nn.LeakyReLU(0.1)\n",
    "        )\n",
    "        self.conn_layer2 = nn.Sequential(nn.Linear(in_features=4096, out_features=7 * 7 * (2 * 5 + C)))\n",
    "\n",
    "    def forward(self, x):\n",
    "        conv_layer1 = self.conv_layer1(x)\n",
    "        conv_layer2 = self.conv_layer2(conv_layer1)\n",
    "        conv_layer3 = self.conv_layer3(conv_layer2)\n",
    "        conv_layer4 = self.conv_layer4(conv_layer3)\n",
    "        conv_layer5 = self.conv_layer5(conv_layer4)\n",
    "        conv_layer6 = self.conv_layer6(conv_layer5)\n",
    "        flatten = conv_layer5.view(conv_layer5.size(0),-1)\n",
    "        conn_layer1 = self.conn_layer1(flatten)\n",
    "        output = self.conn_layer2(conn_layer1)\n",
    "        return output.reshape(-1,7,7,30)\n"
   ]
  },
  {
   "cell_type": "code",
   "execution_count": 0,
   "metadata": {
    "colab": {},
    "colab_type": "code",
    "id": "ByNWe5q4V39u"
   },
   "outputs": [],
   "source": [
    "def test():\n",
    "    net = YoloV1()\n",
    "    net.to(device)\n",
    "    train_loader = DataLoader(trainset, batch_size=32)\n",
    "    for s,l in train_loader:\n",
    "        start = time.time()\n",
    "        sample = s.to(device)\n",
    "        print(sample.size())\n",
    "        l = l.to(device)\n",
    "        res = net(sample)\n",
    "        print(time.time()-start,res.size(),l.size())\n",
    "        break"
   ]
  },
  {
   "cell_type": "code",
   "execution_count": 0,
   "metadata": {
    "colab": {},
    "colab_type": "code",
    "id": "bjVtwTfzf0FJ"
   },
   "outputs": [],
   "source": [
    "class YoloLoss(nn.Module):\n",
    "    def __init__(self):\n",
    "        super(YoloLoss, self).__init__()\n",
    "\n",
    "    def calculate_iou(self, predict_boxs, target_boxs):\n",
    "        \"\"\"\n",
    "        :param predict_boxs: batch_size 2 * 4\n",
    "        :param target_boxs: batch_size 2 * 4\n",
    "        :return: batch_size_2\n",
    "        \"\"\"\n",
    "        predict_cord = torch.zeros_like(predict_boxs).to(device)\n",
    "        target_cord = torch.zeros_like(target_boxs).to(device)\n",
    "\n",
    "        predict_cord[:, :, :2] = predict_boxs[:, :, :2] - predict_boxs[:, :, 2:] * grid_size * 0.5\n",
    "        predict_cord[:, :, 2:] = predict_boxs[:, :, :2] + predict_boxs[:, :, 2:] * grid_size * 0.5\n",
    "\n",
    "        target_cord[:, :, :2] = target_boxs[:, :, :2] - target_boxs[:, :, 2:] * grid_size * 0.5\n",
    "        target_cord[:, :, 2:] = target_boxs[:, :, :2] + target_boxs[:, :, 2:] * grid_size * 0.5\n",
    "\n",
    "        left_top = torch.max(predict_cord[:, :, :2], target_cord[:, :, :2])\n",
    "        right_bottom = torch.min(predict_cord[:, :, 2:], target_cord[:, :, 2:])\n",
    "\n",
    "        w_h = right_bottom - left_top\n",
    "        w_h[w_h < 0] = 0\n",
    "\n",
    "        i = w_h[:, :, 0] * w_h[:, :, 1]\n",
    "\n",
    "        predict_area = (predict_cord[:, :, 3] - predict_cord[:, :, 1]) * (predict_cord[:, :, 2] - predict_cord[:, :, 0])\n",
    "        predict_area[predict_area < 0] = 0\n",
    "        target_area = (target_cord[:, :, 3] - target_cord[:, :, 1]) * (target_cord[:, :, 2] - target_cord[:, :, 0])\n",
    "\n",
    "        ious = i / (predict_area + target_area - i)\n",
    "\n",
    "        return ious\n",
    "\n",
    "\n",
    "\n",
    "    def forward(self, predict, target):\n",
    "        \"\"\"\n",
    "        predict batch_size x grid_size x grid_size * 30\n",
    "        target  batch_size x grid_size x grid_size * 30\n",
    "\n",
    "        \"\"\"\n",
    "        #         print(target.size())\n",
    "        #         predict = predict.reshape(-1,predict.size(3))\n",
    "        #         target = target.reshape(-1,target.size(3))\n",
    "        batch_size = target.size(0)\n",
    "        has_obj_mask = target[:, :, :, 4] == 1\n",
    "\n",
    "        # 有目标的分类\n",
    "        predict_classes = predict[has_obj_mask][:, 10:]\n",
    "        target_classes = target[has_obj_mask][:, 10:]\n",
    "        # 有目标的分类 loss\n",
    "        classification_loss = F.mse_loss(predict_classes, target_classes, reduction='sum')\n",
    "\n",
    "        # 所有bounding boxes\n",
    "        predict_boxes = predict[:, :, :, :10].reshape(-1, 2, 5)\n",
    "        target_boxes = target[:, :, :, :10].reshape(-1, 2, 5)\n",
    "        has_obj_mask = target_boxes[:, 0, 4] > 0.5\n",
    "\n",
    "        # max iou mask\n",
    "        responsible_mask = torch.zeros(has_obj_mask.size(0),2).byte().to(device)\n",
    "        not_responsible_mask = torch.ones(has_obj_mask.size(0),2).byte().to(device)\n",
    "        ious = torch.zeros(has_obj_mask.size(0),2).to(device)\n",
    "\n",
    "        # 有目标网格的index ,针对网格内boxes计算iou\n",
    "        has_obj_index = torch.nonzero(has_obj_mask)\n",
    "\n",
    "        # --- fast 矩阵计算max iou\n",
    "        p_boxes = predict_boxes[has_obj_mask][:,:,:4]\n",
    "        t_boxes = target_boxes[has_obj_mask][:,:,:4]\n",
    "        ious = self.calculate_iou(p_boxes,t_boxes)\n",
    "        max_ious, max_index = torch.max(ious,dim=1)\n",
    "        for i,j in zip(has_obj_index, max_index):\n",
    "            responsible_mask[i.item(), j.item()] = 1\n",
    "\n",
    "        # -- slow\n",
    "        # for i in has_obj_index:\n",
    "        #     p_boxes = predict_boxes[i[0]][:, :4]\n",
    "        #     t_boxes = target_boxes[i[0],][:, :4]\n",
    "        #     iou = self.calculate_iou(p_boxes, t_boxes)\n",
    "        #     max_iou, responsible_index = iou.max(0)\n",
    "        #     responsible_mask[i.item(), responsible_index.item()] = 1\n",
    "        #     ious[i.item(), responsible_index.item()] = max_iou\n",
    "\n",
    "        not_responsible_mask = not_responsible_mask - responsible_mask\n",
    "\n",
    "        # 负责预测的bounding box\n",
    "        target_responsible = target_boxes[responsible_mask]\n",
    "        predict_responsible = predict_boxes[responsible_mask]\n",
    "        # ious = ious[responsible_mask]\n",
    "\n",
    "        # bounding box 不负责预测的\n",
    "        predict_not_responsible = predict_boxes[not_responsible_mask].reshape(-1, 5)\n",
    "        # calculate confidence loss where bounding boxes isn't responsible for predicting\n",
    "        not_predict_confidence_loss = F.mse_loss(predict_not_responsible[:,4],\n",
    "                                                 torch.zeros(predict_not_responsible.size(0)).to(device),\n",
    "                                                 reduction='sum')\n",
    "\n",
    "        # calculate confidence loss\n",
    "        # predict_confidence_loss = F.mse_loss(predict_responsible[:,4], ious, reduction='sum')\n",
    "        # print(predict_responsible.size())\n",
    "        mask = torch.zeros_like(predict_responsible).byte().to(device)\n",
    "        mask[:,4] = 1\n",
    "        # print(predict_responsible[mask].size())\n",
    "        use_iou = False\n",
    "        # 是否用iou计算confidence loss ,如果不用iou则用1\n",
    "        if use_iou:\n",
    "            predict_confidence_loss = F.mse_loss(predict_responsible[mask], max_ious, reduction='sum')\n",
    "        else:\n",
    "            predict_confidence_loss = F.mse_loss(predict_responsible[mask], torch.ones(predict_responsible[mask].size()).to(device), reduction='sum')\n",
    "\n",
    "        # calculate localization error\n",
    "        predict_boxs_predict_loc = predict_responsible[:, :4]\n",
    "        target_boxs_predict_loc = target_responsible[:, :4]\n",
    "        # 若 wh小于0则等于0\n",
    "        predict_boxs_predict_loc[:, 2:][predict_boxs_predict_loc[:, 2:] < 0] = 0\n",
    "        xy_loss = F.mse_loss(predict_boxs_predict_loc[:, :2], target_boxs_predict_loc[:, :2], reduction='sum')\n",
    "        wh_loss = F.mse_loss(torch.sqrt(predict_boxs_predict_loc[:, 2:]), torch.sqrt(target_boxs_predict_loc[:, 2:]),\n",
    "                             reduction='sum')\n",
    "\n",
    "        loss = (5 * (xy_loss + wh_loss) + predict_confidence_loss + 0.5 * not_predict_confidence_loss \\\n",
    "               + classification_loss) / batch_size\n",
    "\n",
    "        loss_dict = {\n",
    "            'xy_loss': xy_loss.item() / batch_size,\n",
    "            'wh_loss': wh_loss.item() / batch_size,\n",
    "            'predict_confidence_loss': predict_confidence_loss.item() / batch_size,\n",
    "            'not_predict_confidence_loss': not_predict_confidence_loss.item() / batch_size,\n",
    "            'classification_loss': classification_loss.item() / batch_size,\n",
    "            'loss': loss.item()\n",
    "        }\n",
    "        return loss, loss_dict\n",
    "\n",
    "def test():\n",
    "    device = torch.device(\"cuda:0\" if torch.cuda.is_available() else \"cpu\")\n",
    "    loss =YoloLoss()\n",
    "    torch.manual_seed(1)\n",
    "    train_loader = DataLoader(trainset, batch_size=32,drop_last=True)\n",
    "    for samples,labels in train_loader:\n",
    "            labels = labels.to(device)\n",
    "            break\n",
    "    predict = labels.clone()\n",
    "    print(predict[:,:,:,:2].size())\n",
    "    predict = predict + torch.rand(32,7,7,30).to(device)\n",
    "    l,d = loss(predict,labels)\n",
    "    d\n",
    "# test()"
   ]
  },
  {
   "cell_type": "code",
   "execution_count": 0,
   "metadata": {
    "colab": {},
    "colab_type": "code",
    "id": "2CniZjFUl3Tw"
   },
   "outputs": [],
   "source": [
    "auth.authenticate_user()\n",
    "\n",
    "def save_to_driver(model,name):\n",
    "\n",
    "    path = torch.save(model.state_dict(),name)\n",
    "    \n",
    "    drive_service = build('drive', 'v3')\n",
    "\n",
    "    file_metadata = {\n",
    "      'name': name,\n",
    "      'mimeType': 'text/plain'\n",
    "    }\n",
    "    media = MediaFileUpload(name, \n",
    "                            mimetype='text/plain',\n",
    "                            resumable=True)\n",
    "    created = drive_service.files().create(body=file_metadata,\n",
    "                                           media_body=media,\n",
    "                                           fields='id').execute()\n",
    "    print('File ID: {}'.format(created.get('id')))\n",
    "\n",
    "    \n",
    "def load_model(file_name):\n",
    "#     drive.mount('/content/drive')\n",
    "    model = YoloV1()\n",
    "    path = f'/content/drive/My Drive/{file_name}'\n",
    "    if os.path.exists(path):\n",
    "        print('loading model')\n",
    "        model.load_state_dict(torch.load(path))\n",
    "        model.eval()\n",
    "    else:\n",
    "        print(\"model isn't exist\")\n",
    "    return model\n",
    "    \n"
   ]
  },
  {
   "cell_type": "code",
   "execution_count": 0,
   "metadata": {
    "colab": {
     "base_uri": "https://localhost:8080/",
     "height": 69
    },
    "colab_type": "code",
    "executionInfo": {
     "elapsed": 2562,
     "status": "ok",
     "timestamp": 1557710375097,
     "user": {
      "displayName": "yuan jiang",
      "photoUrl": "",
      "userId": "10570647316331037244"
     },
     "user_tz": -480
    },
    "id": "VB7KT9Cs1USX",
    "outputId": "20840976-96a4-4f24-d91b-78ff85e3a237"
   },
   "outputs": [
    {
     "name": "stdout",
     "output_type": "stream",
     "text": [
      "Drive already mounted at /content/drive; to attempt to forcibly remount, call drive.mount(\"/content/drive\", force_remount=True).\n",
      " alexnet.ipynb\t    pytorch_get_start.ipynb   yolo.net\n",
      "'Colab Notebooks'   resnet.ipynb\t      yolo_v1_pytorch.ipynb\n"
     ]
    }
   ],
   "source": [
    "drive.mount('/content/drive')\n",
    "!ls \"/content/drive/My Drive\""
   ]
  },
  {
   "cell_type": "code",
   "execution_count": 0,
   "metadata": {
    "colab": {},
    "colab_type": "code",
    "id": "HjJirezgs1b4"
   },
   "outputs": [],
   "source": [
    "torch.autograd.set_detect_anomaly(True)\n",
    "device = torch.device(\"cuda:0\" if torch.cuda.is_available() else \"cpu\")\n",
    "loss_list = {\n",
    "    'xy_loss':[],\n",
    "    'wh_loss':[],\n",
    "    'predict_confidence_loss':[],\n",
    "    'not_predict_confidence_loss':[],\n",
    "    'classification_loss':[],\n",
    "    'loss':[],\n",
    "}\n",
    "\n",
    "def update_lr(optimizer,epoch,r):\n",
    "    if epoch == 1:\n",
    "        lr = 10e-4 + r*(10e-3 - 10e-4)\n",
    "    elif epoch< 70:\n",
    "        lr = 10e-3\n",
    "    elif epoch<105:\n",
    "        lr = 10e-4\n",
    "    else:\n",
    "        lr = 10e-5\n",
    "#     print(lr)\n",
    "    for param_group in optimizer.param_groups:\n",
    "        param_group['lr'] = lr\n",
    "        \n",
    "\n",
    "def train(net,epochs,n_epoch=1):\n",
    "    print(device)\n",
    "    print(torch.cuda.get_device_name(device))\n",
    "\n",
    "    criterion = YoloLoss()\n",
    "    optimizer = torch.optim.Adam(net.parameters(), lr=10e-5)#weight_decay = 1.0e-5)\n",
    "\n",
    "    scheduler = torch.optim.lr_scheduler.StepLR(optimizer, step_size=50, gamma=0.1)\n",
    "\n",
    "    train_loader = DataLoader(trainset, batch_size=32,drop_last=True, shuffle=True)\n",
    "\n",
    "    for epoch in range(n_epoch,epochs+1):\n",
    "        print(f'epoch : {epoch}  --------------------------------------')\n",
    "        for i,(samples,labels) in enumerate(train_loader):\n",
    "            \n",
    "#             update_lr(optimizer,epoch,r)\n",
    "            \n",
    "            optimizer.zero_grad()\n",
    "            samples = samples.to(device)\n",
    "            labels = labels.to(device)\n",
    "            \n",
    "            predict = net(samples)\n",
    "            \n",
    "            loss,loss_dict = criterion(predict,labels)\n",
    "            for k,v in loss_dict.items():\n",
    "                loss_list[k].append(v)\n",
    "            \n",
    "            loss.backward()\n",
    "            optimizer.step()\n",
    "            print(loss.item())\n",
    "        scheduler.step()\n",
    "\n",
    "try:\n",
    "    if 'net' in locals().keys():\n",
    "        pass\n",
    "    else:\n",
    "        net = load_model('yolo.pt')\n",
    "    net.to(device)\n",
    "    train(net ,100)\n",
    "    save_to_driver(net,'yolo.net')\n",
    "except Exception as e:\n",
    "    print(e)\n",
    "\n",
    "\n"
   ]
  },
  {
   "cell_type": "code",
   "execution_count": 0,
   "metadata": {
    "colab": {
     "base_uri": "https://localhost:8080/",
     "height": 1603
    },
    "colab_type": "code",
    "executionInfo": {
     "elapsed": 1593,
     "status": "ok",
     "timestamp": 1557644133907,
     "user": {
      "displayName": "yuan jiang",
      "photoUrl": "",
      "userId": "10570647316331037244"
     },
     "user_tz": -480
    },
    "id": "7fvNTjanHgNX",
    "outputId": "5856069c-01db-4a02-c1bd-6241b0a18368"
   },
   "outputs": [
    {
     "data": {
      "image/png": "[encoded data removed]",
      "text/plain": [
       "<Figure size 432x288 with 1 Axes>"
      ]
     },
     "metadata": {
      "tags": []
     },
     "output_type": "display_data"
    },
    {
     "data": {
      "image/png": "[encoded data removed]",
      "text/plain": [
       "<Figure size 432x288 with 1 Axes>"
      ]
     },
     "metadata": {
      "tags": []
     },
     "output_type": "display_data"
    },
    {
     "data": {
      "image/png": "[encoded data removed]",
      "text/plain": [
       "<Figure size 432x288 with 1 Axes>"
      ]
     },
     "metadata": {
      "tags": []
     },
     "output_type": "display_data"
    },
    {
     "data": {
      "image/png": "[encoded data removed]",
      "text/plain": [
       "<Figure size 432x288 with 1 Axes>"
      ]
     },
     "metadata": {
      "tags": []
     },
     "output_type": "display_data"
    },
    {
     "data": {
      "image/png": "[encoded data removed]",
      "text/plain": [
       "<Figure size 432x288 with 1 Axes>"
      ]
     },
     "metadata": {
      "tags": []
     },
     "output_type": "display_data"
    },
    {
     "data": {
      "image/png": "[encoded data removed]",
      "text/plain": [
       "<Figure size 432x288 with 1 Axes>"
      ]
     },
     "metadata": {
      "tags": []
     },
     "output_type": "display_data"
    }
   ],
   "source": [
    "def plot():\n",
    "    for k,v in loss_list.items():\n",
    "        plt.title(str(k))\n",
    "        r = 0.98\n",
    "        v2 = []\n",
    "        n = v[0]\n",
    "        for x in v:\n",
    "            n = n * r +(1-r)*x\n",
    "            v2.append(n)\n",
    "        plt.plot(range(1, len(v2) + 1), v2, linewidth=0.5)\n",
    "        plt.show()\n",
    "plot()"
   ]
  },
  {
   "cell_type": "code",
   "execution_count": 0,
   "metadata": {
    "colab": {},
    "colab_type": "code",
    "id": "BpIB3a-xcbN_"
   },
   "outputs": [],
   "source": [
    "def nms(boxes, overlap_threshold=0.5):\n",
    "    \"\"\" \n",
    "    :param boxes: (x_min,y_min,weight,height,score)\n",
    "    :param overlap_threshold: \n",
    "    :return: boxes index\n",
    "    \"\"\"\n",
    "    boxes = torch.clamp(boxes, min=0, max=448)\n",
    "    keep = []\n",
    "    x1 = boxes[:, 0]\n",
    "    y1 = boxes[:, 1]\n",
    "    x2 = boxes[:, 2] + boxes[:, 0]\n",
    "    y2 = boxes[:, 3] + boxes[:, 1]\n",
    "    scores = boxes[:, 4]\n",
    "\n",
    "    areas = (x2 - x1) * (y2 - y1)\n",
    "    _, order = scores.sort(dim=0, descending=True)\n",
    "\n",
    "    while order.numel() > 0:\n",
    "\n",
    "        if order.numel() == 1:\n",
    "            keep.append(order)\n",
    "            break\n",
    "        else:\n",
    "            keep.append(order[0])\n",
    "\n",
    "        xx1 = torch.max(x1[order[0]], x1[order[1:]])\n",
    "        yy1 = torch.max(y1[order[0]], y1[order[1:]])\n",
    "        xx2 = torch.min(x2[order[0]], x2[order[1:]])\n",
    "        yy2 = torch.min(y2[order[0]], y2[order[1:]])\n",
    "\n",
    "        w = torch.clamp(xx2 - xx1, min=0)\n",
    "        h = torch.clamp(yy2 - yy1, min=0)\n",
    "        inter = w * h\n",
    "\n",
    "        ovr = inter / (areas[order[0]] + areas[order[1:]] - inter)\n",
    "\n",
    "        inds = torch.nonzero(ovr <= overlap_threshold).squeeze()\n",
    "        if not inds.numel():\n",
    "            break\n",
    "        order = order[inds + 1]\n",
    "\n",
    "    return torch.tensor(keep).to(device).long()"
   ]
  },
  {
   "cell_type": "code",
   "execution_count": 0,
   "metadata": {
    "colab": {},
    "colab_type": "code",
    "id": "lpe0ABbsi751"
   },
   "outputs": [],
   "source": [
    "def decode_labels(labels):\n",
    "    \"\"\"\n",
    "    yolo labels格式转换成正常,用于plot\n",
    "    :param labels: [batch_size * 7 * 7 * ((x_center,y_center,width,height,score)*2,classes)]    x,y相对于网格\n",
    "    :return: class_index : [batch_size * 7 * * 2 * 1].reshape(-1,1) classes 中最大值的index\n",
    "    :return: boxes : [batch_size * 7 * * 2 * (x_min,y_min,width,height,score)].reshape(-1,5)  x,y相对于图片\n",
    "    \"\"\"\n",
    "\n",
    "    classes = labels[:, :, :, 10:]\n",
    "\n",
    "    # batch_size * 7 * 7\n",
    "    class_index = torch.max(classes, dim=3)[1]\n",
    "\n",
    "    temp = labels[:, :, :, :10].reshape(-1, 7, 7, 2, 5)\n",
    "\n",
    "    boxes = torch.zeros_like(temp)\n",
    "\n",
    "    # 长度相对转换\n",
    "    for xi in range(7):\n",
    "        for yi in range(7):\n",
    "            temp[:, xi, yi, :, 0] = (temp[:, xi, yi, :, 0] + xi) / grid_number\n",
    "            temp[:, xi, yi, :, 1] = (temp[:, xi, yi, :, 1] + yi) / grid_number\n",
    "\n",
    "    boxes[:, :, :, :, :2] = temp[:, :, :, :, :2] - temp[:, :, :, :, 2:4] / 2\n",
    "    boxes[:, :, :, :, 2:] = temp[:, :, :, :, 2:]\n",
    "\n",
    "    class_index = class_index.reshape(-1, 7, 7, 1).expand(-1, 7, 7, 2)\n",
    "\n",
    "    boxes = boxes.reshape(-1, 5)\n",
    "    class_index = class_index.reshape(-1, 1)\n",
    "    return boxes, class_index"
   ]
  },
  {
   "cell_type": "code",
   "execution_count": 29,
   "metadata": {
    "colab": {
     "base_uri": "https://localhost:8080/",
     "height": 10136,
     "output_embedded_package_id": "1lU3MxQiWJvP5CqcAvgIqdhTg6Ag3LAHY"
    },
    "colab_type": "code",
    "executionInfo": {
     "elapsed": 13071,
     "status": "error",
     "timestamp": 1557716252047,
     "user": {
      "displayName": "yuan jiang",
      "photoUrl": "",
      "userId": "10570647316331037244"
     },
     "user_tz": -480
    },
    "id": "VFN6-5VQcb8M",
    "outputId": "e3f3efd3-f94c-489f-d656-d97f7abca914"
   },
   "outputs": [
    {
     "data": {
      "text/plain": [
       "Output hidden; open in https://colab.research.google.com to view."
      ]
     },
     "metadata": {},
     "output_type": "display_data"
    }
   ],
   "source": [
    "test_loader = DataLoader(testset, batch_size=1,)#shuffle=True)\n",
    "train_loader = DataLoader(trainset, batch_size=1,)#shuffle=True)\n",
    "\n",
    "\n",
    "def test(model):\n",
    "    with torch.no_grad():\n",
    "        for sample,label in test_loader:\n",
    "#         for sample,label in train_loader:\n",
    "            sample = sample.to(device)\n",
    "            label = label.to(device)\n",
    "            predict = model(sample)\n",
    "            \n",
    "            l = YoloLoss()\n",
    "            loss,loss_dict = l(predict,label)\n",
    "            print(loss_dict)\n",
    "            \n",
    "            labels_box,label_class = decode_labels(label)\n",
    "            predict_box,predict_class = decode_labels(predict)\n",
    "            \n",
    "            threshold = 0.3\n",
    "            grid_confidence_mask = predict_box[:,4] > threshold\n",
    "            predict_box = predict_box[grid_confidence_mask]\n",
    "            predict_class = predict_class[grid_confidence_mask]\n",
    "            \n",
    "            # 原始box\n",
    "            sample = sample.squeeze() * 255\n",
    "            boxes = labels_box[labels_box[:,4]==1]\n",
    "            label_class = label_class[labels_box[:,4]==1]\n",
    "#             print(label_class)\n",
    "            plot(sample.to('cpu'),boxes.to('cpu'),label_class)\n",
    "            \n",
    "            # 预测box\n",
    "            nms_index = nms(predict_box).long()\n",
    "            print(f\"before nms {predict_box.size()},   nms after : {nms_index.size()}\")\n",
    "            boxes = predict_box[nms_index]\n",
    "            predict_class = predict_class[nms_index]\n",
    "            plot(sample.to('cpu'),boxes.to('cpu'),predict_class)\n",
    "#             return\n",
    "\n",
    "        \n",
    "def plot(image,boxes,labels=[]):\n",
    "    image = image.numpy().astype(np.uint8)\n",
    "    fig = plt.figure()\n",
    "    image = np.transpose(image, (1, 2, 0))\n",
    "\n",
    "    boxes = boxes.numpy() * 448\n",
    "\n",
    "    plt.imshow(image)\n",
    "    \n",
    "    gca = plt.gca()\n",
    "    for box,label in zip(boxes,labels):\n",
    "\n",
    "        rect  = plt.Rectangle((box[0], box[1]),box[2],\n",
    "                      box[3], fill=False,\n",
    "                      edgecolor='r', linewidth=1)\n",
    "        gca.add_patch(rect)\n",
    "        \n",
    "        gca.text(box[0], box[1]-10,\n",
    "                        object_class[label],\n",
    "                        bbox=dict(facecolor='white', alpha=0.9),\n",
    "                        fontsize=8, color='red')\n",
    "    plt.show()\n",
    "\n",
    "try:\n",
    "    if 'net' in locals().keys():\n",
    "        print('use net')\n",
    "    else:\n",
    "        net = load_model('yolo.net')\n",
    "        net.to(device)\n",
    "    test(net)\n",
    "except Exception as e:\n",
    "    print(e)"
   ]
  }
 ],
 "metadata": {
  "accelerator": "GPU",
  "colab": {
   "collapsed_sections": [],
   "name": "yolo_v1_pytorch.ipynb",
   "provenance": [],
   "version": "0.3.2"
  },
  "kernelspec": {
   "display_name": "Python 3",
   "language": "python",
   "name": "python3"
  },
  "language_info": {
   "codemirror_mode": {
    "name": "ipython",
    "version": 3
   },
   "file_extension": ".py",
   "mimetype": "text/x-python",
   "name": "python",
   "nbconvert_exporter": "python",
   "pygments_lexer": "ipython3",
   "version": "3.7.0"
  }
 },
 "nbformat": 4,
 "nbformat_minor": 1
}
