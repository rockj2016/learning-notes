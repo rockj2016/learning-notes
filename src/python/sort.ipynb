{
 "cells": [
  {
   "cell_type": "code",
   "execution_count": 5,
   "metadata": {},
   "outputs": [],
   "source": [
    "import random ,copy\n",
    "data = [x for x in range(1,1001)]\n",
    "random.shuffle(data)\n",
    "\n",
    "def check(data):\n",
    "    if data == [x for x in range(1,1001)]:\n",
    "        print('True')\n",
    "    else:\n",
    "        print('False')"
   ]
  },
  {
   "cell_type": "markdown",
   "metadata": {},
   "source": [
    "## 选择排序\n",
    "遍历整个列表,搜索最小项,如果最小项不是列表第一项则交换,然后对列表第二个位置进行搜索\n",
    "\n",
    "复杂度 $O(n^2)$\n"
   ]
  },
  {
   "cell_type": "code",
   "execution_count": 30,
   "metadata": {},
   "outputs": [
    {
     "name": "stdout",
     "output_type": "stream",
     "text": [
      "True\n"
     ]
    }
   ],
   "source": [
    "lst = copy.copy(data)\n",
    "def selection_sort(data):\n",
    "    for i in range(0, len(data)-1):\n",
    "        min_number = data[i]\n",
    "        min_index = i\n",
    "        for j in range(i+1,len(data)):\n",
    "            if data[j] < min_number:\n",
    "                min_number = data[j]\n",
    "                min_index = j\n",
    "        data[i],data[min_index] = min_number,data[i]\n",
    "    return data\n",
    "res = selection_sort(lst)\n",
    "check(res)"
   ]
  },
  {
   "cell_type": "markdown",
   "metadata": {},
   "source": [
    "## 冒泡排序\n",
    "从头开始,一一比较相邻数据大小,每当相邻两项数据顺序不对时交换顺序,直到移动到列表最后一项,\n",
    "然后再次从头开始移动到倒数第二项,...\n",
    "\n",
    "复杂度 $O(n^2)$"
   ]
  },
  {
   "cell_type": "code",
   "execution_count": 31,
   "metadata": {},
   "outputs": [
    {
     "name": "stdout",
     "output_type": "stream",
     "text": [
      "True\n"
     ]
    }
   ],
   "source": [
    "lst = copy.copy(data)\n",
    "def bubble_sort(data):\n",
    "    # i 作为搜索末项的 index\n",
    "    for i in range(len(data),0,-1):\n",
    "        for j in range(0,i-1):\n",
    "            if data[j] > data[j+1]:\n",
    "                data[j],data[j+1] = data[j+1],data[j]\n",
    "    return data\n",
    "\n",
    "res = bubble_sort(lst)\n",
    "check(res)"
   ]
  },
  {
   "cell_type": "markdown",
   "metadata": {},
   "source": [
    "## 插入排序\n",
    "依据索引i (1,n-1) 遍历列表,对于第i个元素(也是第i轮遍历)(前i-1项的排序正确),与起前(i-1)个元素对比,寻找插入点, \n"
   ]
  },
  {
   "cell_type": "code",
   "execution_count": 4,
   "metadata": {},
   "outputs": [
    {
     "name": "stdout",
     "output_type": "stream",
     "text": [
      "True\n"
     ]
    }
   ],
   "source": [
    "lst = copy.copy(data)\n",
    "def insertion_sort(data):\n",
    "    # 依次遍历列表每个元素(除了第一个)\n",
    "    for i in range(1,len(data)):\n",
    "        insert_number = data[i]\n",
    "        # 第 i 个元素 与前(i-1) 个元素对比,寻找插入点, \n",
    "        # 注意 当第一个值不为最小值时,j+1=0 =>j=-1,即使 insert_number < data[-1]\n",
    "        # 对 data[-1+1] 进行了赋值,循环结束后会对 data[-1+1] = insert_number 赋值\n",
    "        for j in range(i-1,-2,-1):\n",
    "            if insert_number < data[j]:\n",
    "                data[j+1] = data[j]\n",
    "            else:\n",
    "                break\n",
    "        data[j+1] = insert_number\n",
    "    return data\n",
    "res = insertion_sort(lst)\n",
    "check(res)"
   ]
  },
  {
   "cell_type": "markdown",
   "metadata": {},
   "source": [
    "## 快速排序\n",
    "\n",
    "1. 列表中选择第一个值作为基准点\n",
    "2. 将小于基准的值放于左边,大于的值放右边 (left_list,mid_value,right_list)\n",
    "3. 如果子列表元素大于1 则对字列表重复1,2步骤"
   ]
  },
  {
   "cell_type": "code",
   "execution_count": 3,
   "metadata": {},
   "outputs": [
    {
     "name": "stdout",
     "output_type": "stream",
     "text": [
      "True\n"
     ]
    }
   ],
   "source": [
    "lst = copy.copy(data)\n",
    "def quick_sort(data,left,right):\n",
    "    if left < right:\n",
    "        mid = (left+right)//2\n",
    "        mid_value = data[mid]\n",
    "        data[right],data[mid] = mid_value,data[right]\n",
    "        \n",
    "        index = left\n",
    "        boundary = left\n",
    "        \n",
    "        while index < right:\n",
    "            if data[index] < mid_value:\n",
    "                data[index],data[boundary] = data[boundary],data[index]\n",
    "                boundary += 1\n",
    "            index += 1\n",
    "        data[boundary],data[right] = data[right],data[boundary]\n",
    "        \n",
    "        quick_sort(data,left,boundary-1)\n",
    "        quick_sort(data,boundary+1,right)\n",
    "    return\n",
    "\n",
    "quick_sort(lst,0,len(lst)-1)\n",
    "check(lst)"
   ]
  },
  {
   "cell_type": "code",
   "execution_count": null,
   "metadata": {},
   "outputs": [],
   "source": [
    "a = 1\n",
    "\n",
    "def b(a):\n",
    "    a = a + 1=\n",
    "\n",
    "def a(a):\n",
    "    a += 1\n",
    "    b(a)\n",
    "    print(a)"
   ]
  },
  {
   "cell_type": "code",
   "execution_count": 9,
   "metadata": {},
   "outputs": [
    {
     "name": "stdout",
     "output_type": "stream",
     "text": [
      "True\n"
     ]
    }
   ],
   "source": [
    "lst = copy.copy(data)\n",
    "\n",
    "def s(lst,left=0,right=None):\n",
    "    if right == None:\n",
    "        right = len(lst)-1\n",
    "    if left < right:\n",
    "        mid = (left + right) // 2\n",
    "        mid_value = lst[mid]\n",
    "#         print(mid_value)\n",
    "        lst[mid],lst[right] = lst[right],lst[mid]\n",
    "        \n",
    "        index = left\n",
    "        bondary = left\n",
    "        while index < right:\n",
    "            if lst[index] < mid_value:\n",
    "                lst[bondary],lst[index] = lst[index],lst[bondary]\n",
    "                bondary += 1\n",
    "            index += 1\n",
    "        lst[bondary],lst[right] = lst[right],lst[bondary]\n",
    "#         print(bondary,index,left,right)\n",
    "#         return\n",
    "        \n",
    "        s(lst,left,bondary-1)\n",
    "        s(lst,bondary+1,right)\n",
    "    return\n",
    "s(lst)\n",
    "check(lst)\n",
    "    "
   ]
  },
  {
   "cell_type": "code",
   "execution_count": null,
   "metadata": {},
   "outputs": [],
   "source": []
  }
 ],
 "metadata": {
  "kernelspec": {
   "display_name": "Python 3",
   "language": "python",
   "name": "python3"
  },
  "language_info": {
   "codemirror_mode": {
    "name": "ipython",
    "version": 3
   },
   "file_extension": ".py",
   "mimetype": "text/x-python",
   "name": "python",
   "nbconvert_exporter": "python",
   "pygments_lexer": "ipython3",
   "version": "3.7.0"
  }
 },
 "nbformat": 4,
 "nbformat_minor": 2
}
