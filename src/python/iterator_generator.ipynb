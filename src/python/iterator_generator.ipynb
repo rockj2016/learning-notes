{
 "cells": [
  {
   "cell_type": "markdown",
   "metadata": {},
   "source": [
    "# [iterable](https://docs.python.org/3/glossary.html#term-generator)\n",
    "> An object capable of returning its members one at a time. Examples of iterables include all sequence types (such as list, str, and tuple) and some non-sequence types like dict, file objects, and objects of any classes you define with an __iter__() method or with a __getitem__() method that implements Sequence semantics.\n",
    "\n",
    "> Iterables can be used in a for loop and in many other places where a sequence is needed (zip(), map(), …). When an iterable object is passed as an argument to the built-in function iter(), it returns an iterator for the object. This iterator is good for one pass over the set of values. When using iterables, it is usually not necessary to call iter() or deal with iterator objects yourself. The for statement does that automatically for you, creating a temporary unnamed variable to hold the iterator for the duration of the loop. See also iterator, sequence, and generator."
   ]
  },
  {
   "cell_type": "markdown",
   "metadata": {},
   "source": [
    "# [iterator](https://docs.python.org/3/glossary.html#term-generator)\n",
    "> An object representing a stream of data. Repeated calls to the iterator’s __next__() method (or passing it to the built-in function next()) return successive items in the stream. When no more data are available a StopIteration exception is raised instead. At this point, the iterator object is exhausted and any further calls to its __next__() method just raise StopIteration again. Iterators are required to have an __iter__() method that returns the iterator object itself so every iterator is also iterable and may be used in most places where other iterables are accepted. One notable exception is code which attempts multiple iteration passes. A container object (such as a list) produces a fresh new iterator each time you pass it to the iter() function or use it in a for loop. Attempting this with an iterator will just return the same exhausted iterator object used in the previous iteration pass, making it appear like an empty container.\n",
    "\n",
    "> More information can be found in Iterator Types."
   ]
  },
  {
   "cell_type": "code",
   "execution_count": 1,
   "metadata": {},
   "outputs": [
    {
     "name": "stdout",
     "output_type": "stream",
     "text": [
      "<list_iterator object at 0x0000018631AEE908>\n",
      "True\n",
      "1\n",
      "----------------------------------------\n",
      "2\n",
      "3\n",
      "4\n"
     ]
    }
   ],
   "source": [
    "A = iter([1,2,3,4])\n",
    "print(A)\n",
    "b = iter(A)\n",
    "print(A == b)\n",
    "print(next(b))\n",
    "print('-'*40)\n",
    "for i in A:\n",
    "    print(i)"
   ]
  },
  {
   "cell_type": "markdown",
   "metadata": {},
   "source": [
    "# [iterator Types](https://docs.python.org/3/library/stdtypes.html#iterator-types)\n",
    "> Python supports a concept of iteration over containers. This is implemented using two distinct methods; these are used to allow user-defined classes to support iteration. Sequences, described below in more detail, always support the iteration methods.\n",
    "\n",
    "> One method needs to be defined for container objects to provide iteration support:\n",
    "\n",
    "> ## container.__iter__()\n",
    ">> Return an iterator object. The object is required to support the iterator protocol described below. If a container supports different types of iteration, additional methods can be provided to specifically request iterators for those iteration types. (An example of an object supporting multiple forms of iteration would be a tree structure which supports both breadth-first and depth-first traversal.) This method corresponds to the tp_iter slot of the type structure for Python objects in the Python/C API.\n",
    "\n",
    "> The iterator objects themselves are required to support the following two methods, which together form the iterator protocol:\n",
    "\n",
    "> ## iterator.__iter__()\n",
    ">> Return the iterator object itself. This is required to allow both containers and iterators to be used with the for and in statements. This method corresponds to the tp_iter slot of the type structure for Python objects in the Python/C API.\n",
    "\n",
    "> ## iterator.__next__()\n",
    ">> Return the next item from the container. If there are no further items, raise the StopIteration exception. This method corresponds to the tp_iternext slot of the type structure for Python objects in the Python/C API.\n",
    "\n",
    "> Python defines several iterator objects to support iteration over general and specific sequence types, dictionaries, and other more specialized forms. The specific types are not important beyond their implementation of the iterator protocol.\n",
    "\n",
    "> Once an iterator’s __next__() method raises StopIteration, it must continue to do so on subsequent calls. Implementations that do not obey this property are deemed broken."
   ]
  },
  {
   "cell_type": "code",
   "execution_count": 11,
   "metadata": {},
   "outputs": [
    {
     "name": "stdout",
     "output_type": "stream",
     "text": [
      "True\n",
      "True\n",
      "6\n",
      "7\n",
      "8\n",
      "9\n",
      "--------------------------------------------------\n",
      "6\n",
      "7\n",
      "8\n",
      "9\n"
     ]
    }
   ],
   "source": [
    "from collections import Iterable,Iterator\n",
    "\n",
    "class A(object):\n",
    "    def __init__(self):\n",
    "        self.i = 0\n",
    "        self.ceil = 5\n",
    "    \n",
    "    def __iter__(self):\n",
    "        return self\n",
    "#         return iter([6,7,8,9])\n",
    "    \n",
    "    def __next__(self):\n",
    "        while self.i  < self.ceil:\n",
    "#             print(self.i)\n",
    "            self.i += 1\n",
    "            return self.i\n",
    "        raise StopIteration\n",
    "\n",
    "a = A()\n",
    "print(isinstance(a,Iterable))\n",
    "print(isinstance(a,Iterator))\n",
    "\n",
    "for i in a:\n",
    "    print(i)\n",
    "\n",
    "print('-'*50)\n",
    "\n",
    "for i in a:\n",
    "    print(i)\n",
    "    \n",
    "# for 语句先调用 a 的iter()方法获取iterator, \n",
    "# 后一直调用iterator的next方法并返回结果,直到next 中抛出stopiteration 错误\n"
   ]
  },
  {
   "cell_type": "markdown",
   "metadata": {},
   "source": [
    "# [generator](https://docs.python.org/3/glossary.html#term-generator)\n",
    "> A function which returns a generator iterator. It looks like a normal function except that it contains yield expressions for producing a series of values usable in a for-loop or that can be retrieved one at a time with the next() function.\n",
    "\n",
    "> Usually refers to a generator function, but may refer to a generator iterator in some contexts. In cases where the intended meaning isn’t clear, using the full terms avoids ambiguity."
   ]
  },
  {
   "cell_type": "markdown",
   "metadata": {},
   "source": [
    "# generator iterator\n",
    "> An object created by a generator function.\n",
    "\n",
    "> Each yield temporarily suspends processing, remembering the location execution state (including local variables and pending try-statements). When the generator iterator resumes, it picks up where it left off (in contrast to functions which start fresh on every invocation)."
   ]
  },
  {
   "cell_type": "markdown",
   "metadata": {},
   "source": [
    "# generator expression\n",
    "> An expression that returns an iterator. It looks like a normal expression followed by a for clause defining a loop variable, range, and an optional if clause. The combined expression generates values for an enclosing function:\n",
    "\n",
    "\n",
    "```python\n",
    ">>> sum(i*i for i in range(10))\n",
    "# sum of squares 0, 1, 4, ... 81\n",
    "285\n",
    "```"
   ]
  },
  {
   "cell_type": "markdown",
   "metadata": {},
   "source": [
    "# [Generator Types](https://docs.python.org/3/library/stdtypes.html#generator-types)\n",
    "> Python’s generators provide a convenient way to implement the iterator protocol. If a container object’s __iter__() method is implemented as a generator, it will automatically return an iterator object (technically, a generator object) supplying the __iter__() and __next__() methods. More information about generators can be found in the [documentation for the yield expression.](https://docs.python.org/3/reference/expressions.html#yieldexpr)"
   ]
  },
  {
   "cell_type": "markdown",
   "metadata": {},
   "source": [
    "# [Generator expressions]()\n",
    "\n",
    "> A generator expression is a compact generator notation in parentheses:\n",
    "\n",
    "> generator_expression ::=  \"(\" expression comp_for \")\"\n",
    "\n",
    "> A generator expression yields a new generator object. Its syntax(句法) is the same as for comprehensions(推导式), except that it is enclosed in parentheses instead of brackets or curly braces.\n",
    "\n",
    "> Variables used in the generator expression are evaluated lazily when the __next__() method is called for the generator object (in the same fashion as normal generators). However, the iterable expression in the leftmost for clause is immediately evaluated, so that an error produced by it will be emitted at the point where the generator expression is defined, rather than at the point where the first value is retrieved. Subsequent for clauses and any filter condition in the leftmost for clause cannot be evaluated in the enclosing scope as they may depend on the values obtained from the leftmost iterable. For example: (x*y for x in range(10) for y in range(x, x+10)).\n",
    "\n",
    "> The parentheses can be omitted on calls with only one argument. See section Calls for details.\n",
    "\n",
    "> To avoid interfering with the expected operation of the generator expression itself, yield and yield from expressions are prohibited in the implicitly defined generator (in Python 3.7, such expressions emit DeprecationWarning when compiled, in Python 3.8+ they will emit SyntaxError).\n",
    "\n",
    "> If a generator expression contains either async for clauses or await expressions it is called an asynchronous generator expression. An asynchronous generator expression returns a new asynchronous generator object, which is an asynchronous iterator (see Asynchronous Iterators).\n",
    "\n",
    "> New in version 3.6: Asynchronous generator expressions were introduced.\n",
    "\n",
    "> Changed in version 3.7: Prior to Python 3.7, asynchronous generator expressions could only appear in async def coroutines. Starting with 3.7, any function can use asynchronous generator expressions.\n",
    "\n",
    "> Deprecated since version 3.7: yield and yield from deprecated in the implicitly nested scope."
   ]
  },
  {
   "cell_type": "code",
   "execution_count": 3,
   "metadata": {},
   "outputs": [
    {
     "name": "stdout",
     "output_type": "stream",
     "text": [
      "<generator object <genexpr> at 0x000001C5EFF86B88>\n",
      "<generator object <genexpr> at 0x000001C5EFF86C00>\n"
     ]
    },
    {
     "ename": "TypeError",
     "evalue": "'NoneType' object is not iterable",
     "output_type": "error",
     "traceback": [
      "\u001b[1;31m---------------------------------------------------------------------------\u001b[0m",
      "\u001b[1;31mTypeError\u001b[0m                                 Traceback (most recent call last)",
      "\u001b[1;32m<ipython-input-3-36b6214c016d>\u001b[0m in \u001b[0;36m<module>\u001b[1;34m\u001b[0m\n\u001b[0;32m      5\u001b[0m \u001b[0mprint\u001b[0m\u001b[1;33m(\u001b[0m\u001b[0ma\u001b[0m\u001b[1;33m)\u001b[0m\u001b[1;33m\u001b[0m\u001b[0m\n\u001b[0;32m      6\u001b[0m \u001b[1;33m\u001b[0m\u001b[0m\n\u001b[1;32m----> 7\u001b[1;33m \u001b[0ma\u001b[0m \u001b[1;33m=\u001b[0m \u001b[1;33m(\u001b[0m\u001b[0mx\u001b[0m\u001b[1;33m*\u001b[0m\u001b[0my\u001b[0m \u001b[1;32mfor\u001b[0m \u001b[0mx\u001b[0m \u001b[1;32min\u001b[0m \u001b[1;32mNone\u001b[0m \u001b[1;32mfor\u001b[0m \u001b[0my\u001b[0m \u001b[1;32min\u001b[0m \u001b[0mrange\u001b[0m\u001b[1;33m(\u001b[0m\u001b[0mx\u001b[0m\u001b[1;33m,\u001b[0m \u001b[0mx\u001b[0m\u001b[1;33m+\u001b[0m\u001b[1;36m10\u001b[0m\u001b[1;33m)\u001b[0m\u001b[1;33m)\u001b[0m\u001b[1;33m\u001b[0m\u001b[0m\n\u001b[0m\u001b[0;32m      8\u001b[0m \u001b[0mprint\u001b[0m\u001b[1;33m(\u001b[0m\u001b[0ma\u001b[0m\u001b[1;33m)\u001b[0m\u001b[1;33m\u001b[0m\u001b[0m\n\u001b[0;32m      9\u001b[0m \u001b[1;33m\u001b[0m\u001b[0m\n",
      "\u001b[1;31mTypeError\u001b[0m: 'NoneType' object is not iterable"
     ]
    }
   ],
   "source": [
    "a = (x*y for x in range(10) for y in range(x, x+10))\n",
    "print(a)\n",
    "\n",
    "a = (x*y for x in range(10) for y in None)\n",
    "print(a)\n",
    "\n",
    "a = (x*y for x in None for y in range(x, x+10))\n",
    "print(a)\n",
    "\n"
   ]
  },
  {
   "cell_type": "markdown",
   "metadata": {},
   "source": [
    "# [Yield expressions](https://docs.python.org/3/reference/expressions.html#yield-expressions) [中文](https://docs.python.org/zh-cn/3/reference/expressions.html#yield-expressions)\n",
    "\n",
    "1. Using a yield expression in a function’s body causes that function to be a generator\n",
    "\n",
    "2. When a generator function is called, it returns an iterator known as a generator.\n",
    "\n",
    "3. The value of the yield expression after resuming depends on the method which resumed the execution. If __next__() is used (typically via either a for or the next() builtin) then the result is None. Otherwise, if send() is used, then the result will be the value passed in to that method"
   ]
  },
  {
   "cell_type": "markdown",
   "metadata": {},
   "source": [
    "# [Generator-iterator methods](https://docs.python.org/3/reference/expressions.html#generator-iterator-methods) [中文](https://docs.python.org/zh-cn/3/reference/expressions.html#generator-iterator-methods)\n",
    "\n",
    "1. Starts the execution of a generator function or resumes it at the last executed yield expression(上次执行的 yield 表达式位置).\n",
    "\n",
    "2. When a generator function is resumed with a __next__() method, the current yield expression always evaluates to None. \n",
    "\n",
    "3. send() Resumes the execution and “sends” a value into the generator function. The value argument becomes the result of the current yield expression.\n",
    "\n",
    "4. When send() is called to start the generator, it must be called with None as the argument, because there is no yield expression that could receive the value.\n",
    "\n",
    "5. generator.throw() Raises an exception of type type at the point where the generator was paused, and returns the next value yielded by the generator function.\n"
   ]
  },
  {
   "cell_type": "code",
   "execution_count": 2,
   "metadata": {},
   "outputs": [
    {
     "name": "stdout",
     "output_type": "stream",
     "text": [
      "<generator object a at 0x0000018631A96C00>\n",
      "aaa\n",
      "--------------------------------------------------\n",
      "after yield\n",
      "yield expressions return value None\n",
      "None\n",
      "--------------------------------------------------\n",
      "after yield\n",
      "yield expressions return value bb\n",
      "bb\n",
      "--------------------------------------------------\n",
      "after yield\n",
      "yield expressions return value None\n",
      "None\n",
      "--------------------------------------------------\n",
      "err spam\n",
      "spam\n"
     ]
    }
   ],
   "source": [
    "def a(v=None):\n",
    "    for i in range(1,10):\n",
    "        try:\n",
    "            v = yield v\n",
    "            print('after yield')\n",
    "            print(f'yield expressions return value {v}')\n",
    "        except Exception as e:\n",
    "            print(f'err {e}')\n",
    "            v = e\n",
    "    print(123)\n",
    "\n",
    "aa = a('aaa')\n",
    "\n",
    "print(aa)\n",
    "print(next(aa))\n",
    "print('-'*50)\n",
    "\n",
    "print(next(aa))\n",
    "print('-'*50)\n",
    "\n",
    "print(aa.send('bb'))\n",
    "print('-'*50)\n",
    "\n",
    "print(next(aa))\n",
    "print('-'*50)\n",
    "\n",
    "print(aa.throw(TypeError, \"spam\"))\n",
    "\n",
    "aa.close()\n"
   ]
  },
  {
   "cell_type": "code",
   "execution_count": 46,
   "metadata": {},
   "outputs": [
    {
     "name": "stdout",
     "output_type": "stream",
     "text": [
      "Execution starts when 'next()' is called for the first time.\n",
      "1\n",
      "None\n",
      "2\n",
      "Don't forget to clean up when 'close()' is called.\n"
     ]
    }
   ],
   "source": [
    "def echo(value=None):\n",
    "     print(\"Execution starts when 'next()' is called for the first time.\")\n",
    "     try:\n",
    "         while True:\n",
    "             try:\n",
    "                 value = (yield value)\n",
    "             except Exception as e:\n",
    "                 value = e\n",
    "     finally:\n",
    "         print(\"Don't forget to clean up when 'close()' is called.\")\n",
    "            \n",
    "generator = echo(1)\n",
    "print(next(generator))\n",
    "# Execution starts when 'next()' is called for the first time.\n",
    "# 1\n",
    "print(next(generator))\n",
    "# None\n",
    "print(generator.send(2))\n",
    "# 2\n",
    "generator.throw(TypeError, \"spam\")\n",
    "# TypeError('spam',)\n",
    "generator.close()\n",
    "# Don't forget to clean up when 'close()' is called."
   ]
  },
  {
   "cell_type": "code",
   "execution_count": 7,
   "metadata": {},
   "outputs": [
    {
     "name": "stdout",
     "output_type": "stream",
     "text": [
      "1\n",
      "2\n",
      "3\n",
      "5\n",
      "6\n",
      "7\n",
      "[8, 9, 10]\n",
      "11\n",
      "12\n",
      "13\n",
      "14\n",
      "15\n",
      "[1]\n"
     ]
    }
   ],
   "source": [
    "a = [1,2,3,[5,6,7,[8,9,10],11,12],13,[14,15,[1]]]\n",
    "def flat(l):\n",
    "    for i in l:\n",
    "        if type(i) == list:\n",
    "            yield from i\n",
    "        else:\n",
    "            yield i\n",
    "\n",
    "for i in flat(a):\n",
    "    print(i)"
   ]
  },
  {
   "cell_type": "code",
   "execution_count": null,
   "metadata": {},
   "outputs": [],
   "source": []
  }
 ],
 "metadata": {
  "kernelspec": {
   "display_name": "Python 3",
   "language": "python",
   "name": "python3"
  },
  "language_info": {
   "codemirror_mode": {
    "name": "ipython",
    "version": 3
   },
   "file_extension": ".py",
   "mimetype": "text/x-python",
   "name": "python",
   "nbconvert_exporter": "python",
   "pygments_lexer": "ipython3",
   "version": "3.7.0"
  }
 },
 "nbformat": 4,
 "nbformat_minor": 2
}
