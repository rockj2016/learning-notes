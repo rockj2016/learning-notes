{
 "cells": [
  {
   "cell_type": "markdown",
   "metadata": {},
   "source": [
    "匿名函数变量数值\n",
    "\n",
    "lambda 表达式中变量，在运行时才绑定值"
   ]
  },
  {
   "cell_type": "code",
   "execution_count": 6,
   "metadata": {},
   "outputs": [
    {
     "name": "stdout",
     "output_type": "stream",
     "text": [
      "30\n",
      "30\n",
      "-------------\n",
      "20\n",
      "30\n",
      "-------------\n",
      "20\n",
      "30\n",
      "-------------\n"
     ]
    }
   ],
   "source": [
    "x = 10\n",
    "a = lambda y :x + y\n",
    "x = 20\n",
    "b = lambda y :x + y\n",
    "print(a(10))\n",
    "print(b(10))\n",
    "print('-------------')\n",
    "\n",
    "x = 10\n",
    "a = lambda y :x + y\n",
    "print(a(10))\n",
    "x = 20\n",
    "b = lambda y :x + y\n",
    "print(b(10))\n",
    "print('-------------')\n",
    "\n",
    "x = 10\n",
    "a = lambda y,x = x :x + y\n",
    "x = 20\n",
    "b = lambda y ,x=x:x + y\n",
    "print(a(10))\n",
    "print(b(10))\n",
    "print('-------------')"
   ]
  },
  {
   "cell_type": "markdown",
   "metadata": {},
   "source": [
    "函数有默认值的参数，只会在函数定义时赋值绑定 "
   ]
  },
  {
   "cell_type": "code",
   "execution_count": 14,
   "metadata": {},
   "outputs": [
    {
     "name": "stdout",
     "output_type": "stream",
     "text": [
      "10\n",
      "10\n",
      "--------\n",
      "[]\n",
      "[10]\n"
     ]
    }
   ],
   "source": [
    "# 对参数重新赋值\n",
    "x = 10\n",
    "def test(b=x):\n",
    "    print(b)\n",
    "test()\n",
    "x = 20\n",
    "test()\n",
    "print('--------')\n",
    "\n",
    "# 修改参数\n",
    "x = []\n",
    "def test(b=x):\n",
    "    print(b)\n",
    "test()\n",
    "x.append(10)\n",
    "x = [20]\n",
    "test()"
   ]
  },
  {
   "cell_type": "markdown",
   "metadata": {},
   "source": [
    "from functools import partial\n",
    "\n",
    "The partial() is used for partial function application which “freezes” some portion of a function’s arguments and/or keywords resulting in a new object with a simplified signature. For example, partial() can be used to create a callable that behaves like the int() function where the base argument defaults to two\n",
    "\n"
   ]
  },
  {
   "cell_type": "code",
   "execution_count": 36,
   "metadata": {},
   "outputs": [
    {
     "name": "stdout",
     "output_type": "stream",
     "text": [
      "{} (2,)\n",
      "f {} (1,)\n",
      "2 1\n"
     ]
    }
   ],
   "source": [
    "def a(x ,y):\n",
    "    print(x,y)\n",
    "\n",
    "# functools.partial Roughly equivalent to\n",
    "def partial(func, *args, **keywords):\n",
    "    def newfunc(*fargs, **fkeywords):\n",
    "        print(keywords,args)\n",
    "        print('f',fkeywords,fargs)\n",
    "        newkeywords = keywords.copy()\n",
    "        newkeywords.update(fkeywords)\n",
    "        return func(*args, *fargs, **newkeywords)\n",
    "    newfunc.func = func\n",
    "    newfunc.args = args\n",
    "    newfunc.keywords = keywords\n",
    "    return newfunc\n",
    "\n",
    "b= partial( a,2)\n",
    "b (1)\n",
    "        \n"
   ]
  },
  {
   "cell_type": "markdown",
   "metadata": {},
   "source": [
    "closure\n",
    "nonlocal"
   ]
  },
  {
   "cell_type": "code",
   "execution_count": 45,
   "metadata": {},
   "outputs": [
    {
     "name": "stdout",
     "output_type": "stream",
     "text": [
      "inner a b\n",
      "outer 1 b\n"
     ]
    }
   ],
   "source": [
    "def a ():\n",
    "    x = 1\n",
    "    y = 2\n",
    "    def b():\n",
    "        nonlocal y\n",
    "        y = 'b'\n",
    "        x = 'a'\n",
    "        print('inner',x,y)\n",
    "    b()\n",
    "    print('outer',x,y)\n",
    "a()"
   ]
  },
  {
   "cell_type": "code",
   "execution_count": null,
   "metadata": {},
   "outputs": [],
   "source": []
  },
  {
   "cell_type": "code",
   "execution_count": null,
   "metadata": {},
   "outputs": [],
   "source": []
  }
 ],
 "metadata": {
  "kernelspec": {
   "display_name": "Python 3",
   "language": "python",
   "name": "python3"
  },
  "language_info": {
   "codemirror_mode": {
    "name": "ipython",
    "version": 3
   },
   "file_extension": ".py",
   "mimetype": "text/x-python",
   "name": "python",
   "nbconvert_exporter": "python",
   "pygments_lexer": "ipython3",
   "version": "3.7.0"
  }
 },
 "nbformat": 4,
 "nbformat_minor": 2
}
