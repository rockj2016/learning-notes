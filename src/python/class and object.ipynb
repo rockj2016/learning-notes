{
 "cells": [
  {
   "cell_type": "code",
   "execution_count": 2,
   "metadata": {},
   "outputs": [
    {
     "name": "stdout",
     "output_type": "stream",
     "text": [
      "{}\n",
      "{}\n",
      "{'__module__': '__main__', '__dict__': <attribute '__dict__' of 'X' objects>, '__weakref__': <attribute '__weakref__' of 'X' objects>, '__doc__': None, 'data': 100}\n",
      "100\n",
      "{'__module__': '__main__', 'data': 100, '__dict__': <attribute '__dict__' of 'X' objects>, '__weakref__': <attribute '__weakref__' of 'X' objects>, '__doc__': None}\n",
      "{'data': 200}\n",
      "200\n",
      "{}\n",
      "100\n"
     ]
    }
   ],
   "source": [
    "class X:pass\n",
    "X.data = 100\n",
    "o = X()\n",
    "print(vars(o))\n",
    "print(o.__dict__)\n",
    "print(X.__dict__)\n",
    "\n",
    "class X:\n",
    "    data = 100\n",
    "def test():\n",
    "    o = X()\n",
    "    print(o.data)\n",
    "    o.data = 200\n",
    "    print(vars(X)) # vars(X) same as  X.__dict__\n",
    "    print(vars(o)) # vars(o) same as  o.__dict__\n",
    "    print(o.data)\n",
    "    del o.data\n",
    "    print(vars(o))\n",
    "    print(o.data)\n",
    "test()"
   ]
  },
  {
   "cell_type": "code",
   "execution_count": null,
   "metadata": {},
   "outputs": [],
   "source": []
  },
  {
   "cell_type": "code",
   "execution_count": 20,
   "metadata": {},
   "outputs": [
    {
     "name": "stdout",
     "output_type": "stream",
     "text": [
      "<bound method X.test of <__main__.X object at 0x000001706727E198>>\n",
      "<function X.test at 0x0000017067204E18>\n"
     ]
    }
   ],
   "source": [
    "class X:\n",
    "    def test(self):pass\n",
    "\n",
    "o = X()\n",
    "print(o.test)\n",
    "print(X.test)"
   ]
  },
  {
   "cell_type": "code",
   "execution_count": 8,
   "metadata": {},
   "outputs": [
    {
     "name": "stdout",
     "output_type": "stream",
     "text": [
      "gettattribute:x\n",
      "gettattribute 1\n",
      "1\n",
      "--------------------------------------------------\n",
      "gettattribute:a\n",
      "getattr:a\n",
      "gettattribute:__dict__\n",
      "gettattribute {'x': 1}\n",
      ";; None\n",
      "gettattribute:__dict__\n",
      "gettattribute {'x': 1}\n",
      "None\n"
     ]
    }
   ],
   "source": [
    "class A:\n",
    "    def __init__(self,x):\n",
    "        self.x = x\n",
    "        \n",
    "    def __getattr__(self,name):\n",
    "        print(f'getattr:{name}')\n",
    "        print(';;',self.__dict__.get(name))\n",
    "        return self.__dict__.get(name)\n",
    "    \n",
    "    def __getattribute__(self,name):\n",
    "        print(f'gettattribute:{name}')\n",
    "        print('gettattribute',object.__getattribute__(self,name))\n",
    "        return object.__getattribute__(self,name)\n",
    "              \n",
    "o = A(1)\n",
    "              \n",
    "print(o.x)\n",
    "# print('-'*50)\n",
    "# print(o.__getattribute__('x'))\n",
    "# print('-'*50)\n",
    "# print(o.__getattribute__('a'))\n",
    "\n",
    "print('-'*50)\n",
    "print(o.a)"
   ]
  },
  {
   "cell_type": "code",
   "execution_count": 32,
   "metadata": {},
   "outputs": [
    {
     "data": {
      "text/plain": [
       "<__main__.RevealAccess at 0x17067275588>"
      ]
     },
     "execution_count": 32,
     "metadata": {},
     "output_type": "execute_result"
    }
   ],
   "source": [
    "class RevealAccess(object):\n",
    "    \"\"\"A data descriptor that sets and returns values\n",
    "       normally and prints a message logging their access.\n",
    "    \"\"\"\n",
    "\n",
    "    def __init__(self, initval=None, name='var'):\n",
    "        self.val = initval\n",
    "        self.name = name\n",
    "\n",
    "    def __get__(self, obj, objtype):\n",
    "        print('Retrieving', self.name)\n",
    "        return self.val\n",
    "\n",
    "    def __set__(self, obj, val):\n",
    "        print('Updating', self.name)\n",
    "        self.val = val\n",
    "a = RevealAccess(1,'aaa')\n",
    "a\n"
   ]
  },
  {
   "cell_type": "code",
   "execution_count": 2,
   "metadata": {},
   "outputs": [
    {
     "name": "stdout",
     "output_type": "stream",
     "text": [
      "Im anything!\n",
      "{'__module__': '__main__', 'anything': <__main__.SimpleDes object at 0x000002812B73EB00>, '__dict__': <attribute '__dict__' of 'Simple' objects>, '__weakref__': <attribute '__weakref__' of 'Simple' objects>, '__doc__': None}\n",
      "attribute dict of Simple object: {}\n",
      "delete value\n"
     ]
    }
   ],
   "source": [
    "class SimpleDes:\n",
    "    def __init__(self):\n",
    "        self._value = None\n",
    " \n",
    "    def __set__(self, obj, value):\n",
    "        self._value = value\n",
    "    \n",
    "    def __get__(self, obj, cls):\n",
    "        return self._value\n",
    " \n",
    "    def __delete__(self, obj):\n",
    "        del self._value\n",
    "        print('delete value')\n",
    " \n",
    "class Simple:\n",
    "    anything = SimpleDes()\n",
    "    \n",
    "s = Simple()\n",
    "s.anything = 'Im anything!'\n",
    "print(s.anything)\n",
    "print( Simple.__dict__)\n",
    "\n",
    "print(\"attribute dict of Simple object:\", s.__dict__)\n",
    "del s.anything"
   ]
  },
  {
   "cell_type": "code",
   "execution_count": null,
   "metadata": {},
   "outputs": [],
   "source": []
  }
 ],
 "metadata": {
  "kernelspec": {
   "display_name": "Python 3",
   "language": "python",
   "name": "python3"
  },
  "language_info": {
   "codemirror_mode": {
    "name": "ipython",
    "version": 3
   },
   "file_extension": ".py",
   "mimetype": "text/x-python",
   "name": "python",
   "nbconvert_exporter": "python",
   "pygments_lexer": "ipython3",
   "version": "3.7.0"
  }
 },
 "nbformat": 4,
 "nbformat_minor": 2
}
